{
 "cells": [
  {
   "cell_type": "code",
   "execution_count": 1,
   "metadata": {},
   "outputs": [
    {
     "name": "stdout",
     "output_type": "stream",
     "text": [
      "Populating the interactive namespace from numpy and matplotlib\n",
      "CPU times: user 361 ms, sys: 200 ms, total: 561 ms\n",
      "Wall time: 781 ms\n"
     ]
    }
   ],
   "source": [
    "%%time\n",
    "#import useful packages, all of them are important but not necessarily used in this code\n",
    "#enable inline plotting in Python Notebook\n",
    "#supress warnings\n",
    "\n",
    "%pylab inline\n",
    "import networkx as nx\n",
    "import numpy as np\n",
    "import matplotlib\n",
    "import scipy\n",
    "import warnings\n",
    "warnings.filterwarnings('ignore')\n",
    "import time\n",
    "import matplotlib.pyplot as plt"
   ]
  },
  {
   "cell_type": "markdown",
   "metadata": {},
   "source": [
    "### Run the following cell to download the raw data for the networks (Facebook, Enron Emails, High Energy Physics Citations, and Erdos)\n",
    ":"
   ]
  },
  {
   "cell_type": "code",
   "execution_count": 2,
   "metadata": {},
   "outputs": [
    {
     "name": "stdout",
     "output_type": "stream",
     "text": [
      "CPU times: user 133 ms, sys: 107 ms, total: 241 ms\n",
      "Wall time: 5.24 s\n"
     ]
    }
   ],
   "source": [
    "%%time\n",
    "# Creating directories for network files:\n",
    "import os, errno\n",
    "try:\n",
    "    os.makedirs(\"data\")\n",
    "except OSError as e:\n",
    "    if e.errno != errno.EEXIST:\n",
    "        raise\n",
    "try:\n",
    "    os.makedirs(\"data/facebook\")\n",
    "except OSError as e:\n",
    "    if e.errno != errno.EEXIST:\n",
    "        raise\n",
    "        \n",
    "try:\n",
    "    os.makedirs(\"data/enron\")\n",
    "except OSError as e:\n",
    "    if e.errno != errno.EEXIST:\n",
    "        raise\n",
    "try:\n",
    "    os.makedirs(\"data/citNet\")\n",
    "except OSError as e:\n",
    "    if e.errno != errno.EEXIST:\n",
    "        raise\n",
    "        \n",
    "try:\n",
    "    os.makedirs(\"data/erdos\")\n",
    "except OSError as e:\n",
    "    if e.errno != errno.EEXIST:\n",
    "        raise\n",
    "\n",
    "\n",
    "# Download the network files:\n",
    "import urllib\n",
    "\n",
    "## Facebook Network:\n",
    "urllib.urlretrieve(\"https://snap.stanford.edu/data/facebook_combined.txt.gz\",\"data/facebook/facebook_combined.txt.gz\")\n",
    "\n",
    "## Citation Network:\n",
    "urllib.urlretrieve(\"http://snap.stanford.edu/data/cit-HepTh.txt.gz\", \"data/citNet/cit-HepTh.txt.gz\")\n",
    "urllib.urlretrieve(\"http://snap.stanford.edu/data/cit-HepTh-dates.txt.gz\", \"data/citNet/cit-HepTh-dates.txt.gz\")\n",
    "urllib.urlretrieve(\"http://snap.stanford.edu/data/cit-HepTh-abstracts.tar.gz\", \"data/citNet/cit-HepTh-abstracts.tar.gz\")\n",
    "\n",
    "\n",
    "## Enron Network:\n",
    "urllib.urlretrieve(\"https://snap.stanford.edu/data/email-Enron.txt.gz\",\"data/enron/email-Enron.txt.gz\")\n",
    "\n",
    "## Erdos Network:\n",
    "urllib.urlretrieve(\"https://files.oakland.edu/users/grossman/enp/Erdos1.html\", \"data/erdos/Erdos1.html\")"
   ]
  },
  {
   "cell_type": "markdown",
   "metadata": {},
   "source": [
    "### Run the following cell to unzip and store the Facebook dateset in a .txt file which is readable by NetworkX:"
   ]
  },
  {
   "cell_type": "code",
   "execution_count": 3,
   "metadata": {},
   "outputs": [
    {
     "name": "stdout",
     "output_type": "stream",
     "text": [
      "CPU times: user 6.32 ms, sys: 4.29 ms, total: 10.6 ms\n",
      "Wall time: 9.93 ms\n"
     ]
    }
   ],
   "source": [
    "%%time\n",
    "# The following code simply converts the data file from ZIP to TXT so that NetworkX can read it\n",
    "\n",
    "import gzip\n",
    "inF = gzip.GzipFile(\"data/facebook/facebook_combined.txt.gz\", 'rb')\n",
    "s = inF.read()\n",
    "inF.close()\n",
    "\n",
    "outF = file(\"data/facebook/facebook_combined.txt\", 'wb')\n",
    "outF.write(s)\n",
    "outF.close()\n",
    "\n",
    "\n"
   ]
  },
  {
   "cell_type": "code",
   "execution_count": 2,
   "metadata": {},
   "outputs": [
    {
     "name": "stdout",
     "output_type": "stream",
     "text": [
      "No. of nodes are= 4039\n",
      "No. of edges are= 88234\n"
     ]
    }
   ],
   "source": [
    "#load the network after converting into text file\n",
    "\n",
    "file_name=\"data/facebook/facebook_combined.txt\"\n",
    "\n",
    "\n",
    "#convert the information in the text file into a graph, find no. of edges & nodes in the graph\n",
    "\n",
    "g1=nx.read_edgelist(file_name,create_using=nx.Graph(),nodetype=int)\n",
    "node, edge=g1.order(),g1.size()\n",
    "print \"No. of nodes are=\",node\n",
    "print \"No. of edges are=\",edge"
   ]
  },
  {
   "cell_type": "code",
   "execution_count": 3,
   "metadata": {},
   "outputs": [
    {
     "data": {
      "image/png": "[encoded data removed]",
      "text/plain": [
       "<matplotlib.figure.Figure at 0x10663ce10>"
      ]
     },
     "metadata": {},
     "output_type": "display_data"
    }
   ],
   "source": [
    "\n",
    "degrees_fb  = dict(g1.degree()).values()\n",
    "plt.hist(degrees_fb,bins = 200)\n",
    "plt.show()"
   ]
  },
  {
   "cell_type": "code",
   "execution_count": 17,
   "metadata": {},
   "outputs": [
    {
     "name": "stdout",
     "output_type": "stream",
     "text": [
      "The average degree is 43.691013\n"
     ]
    }
   ],
   "source": [
    "print \"The average degree is %f\" % mean(g1.degree().values())"
   ]
  },
  {
   "cell_type": "markdown",
   "metadata": {},
   "source": [
    "### Determine whether the above graph is connected or not. "
   ]
  },
  {
   "cell_type": "code",
   "execution_count": 4,
   "metadata": {},
   "outputs": [
    {
     "name": "stdout",
     "output_type": "stream",
     "text": [
      "The graph is connected\n"
     ]
    }
   ],
   "source": [
    "if nx.is_connected(g1):\n",
    "    print 'The graph is connected'\n",
    "else:\n",
    "    print 'The graph is not connected. The largest component is stored in g1_largest'\n",
    "    g1_largest = max(nx.connected_component_subgraphs(g1), key = len)\n",
    "    "
   ]
  },
  {
   "cell_type": "markdown",
   "metadata": {},
   "source": [
    "### the network diameter and the average shortest path between any two nodes in the network."
   ]
  },
  {
   "cell_type": "code",
   "execution_count": 5,
   "metadata": {},
   "outputs": [
    {
     "name": "stdout",
     "output_type": "stream",
     "text": [
      "The diameter of the Facebook data is 8\n"
     ]
    }
   ],
   "source": [
    "g1_dia = nx.diameter(g1)\n",
    "print 'The diameter of the Facebook data is %d' %g1_dia"
   ]
  },
  {
   "cell_type": "code",
   "execution_count": null,
   "metadata": {
    "collapsed": true
   },
   "outputs": [],
   "source": [
    "g1_avg_sp = nx.average_shortest_path_length(g1)"
   ]
  },
  {
   "cell_type": "code",
   "execution_count": 16,
   "metadata": {},
   "outputs": [
    {
     "name": "stdout",
     "output_type": "stream",
     "text": [
      "The average shortest path length is 3.692507\n"
     ]
    }
   ],
   "source": [
    "print 'The average shortest path length is %f' %g1_avg_sp"
   ]
  },
  {
   "cell_type": "markdown",
   "metadata": {},
   "source": [
    "### to calculate the clustering coeffient of the nodes of the graph and plot it as a histogram."
   ]
  },
  {
   "cell_type": "code",
   "execution_count": 6,
   "metadata": {},
   "outputs": [
    {
     "data": {
      "image/png": "[encoded data removed]",
      "text/plain": [
       "<matplotlib.figure.Figure at 0x1054e0b90>"
      ]
     },
     "metadata": {},
     "output_type": "display_data"
    }
   ],
   "source": [
    "g1_cluster_coeff = nx.clustering(g1)\n",
    "plt.hist(g1_cluster_coeff.values(), bins = 200)\n",
    "plt.title(\"Clustering Coefficient\")\n",
    "plt.show()"
   ]
  },
  {
   "cell_type": "code",
   "execution_count": 14,
   "metadata": {},
   "outputs": [
    {
     "name": "stdout",
     "output_type": "stream",
     "text": [
      "The average clustering coefficient is 0.605547\n"
     ]
    }
   ],
   "source": [
    "print \"The average clustering coefficient is %f\" % mean(g1_cluster_coeff.values())"
   ]
  },
  {
   "cell_type": "markdown",
   "metadata": {},
   "source": [
    "### the degree centrality of the nodes of the graph and plot it as a histogram."
   ]
  },
  {
   "cell_type": "code",
   "execution_count": 18,
   "metadata": {},
   "outputs": [
    {
     "data": {
      "image/png": "[encoded data removed]",
      "text/plain": [
       "<matplotlib.figure.Figure at 0x1513d38690>"
      ]
     },
     "metadata": {},
     "output_type": "display_data"
    }
   ],
   "source": [
    "g1_degree_centrality = nx.degree_centrality(g1)\n",
    "plt.hist(g1_degree_centrality.values(), bins = 200)\n",
    "plt.title(\"Degree Centrality\")\n",
    "plt.show()"
   ]
  },
  {
   "cell_type": "code",
   "execution_count": 64,
   "metadata": {},
   "outputs": [
    {
     "name": "stdout",
     "output_type": "stream",
     "text": [
      "Average degree centrality is 0.010820\n"
     ]
    }
   ],
   "source": [
    "print \"Average degree centrality is %f\" %mean(g1_degree_centrality.values())"
   ]
  },
  {
   "cell_type": "code",
   "execution_count": 20,
   "metadata": {
    "collapsed": true
   },
   "outputs": [],
   "source": [
    "g1_betweenness_centrality = nx.betweenness_centrality(g1)\n"
   ]
  },
  {
   "cell_type": "code",
   "execution_count": 21,
   "metadata": {},
   "outputs": [
    {
     "data": {
      "image/png": "[encoded data removed]",
      "text/plain": [
       "<matplotlib.figure.Figure at 0x1513d1d750>"
      ]
     },
     "metadata": {},
     "output_type": "display_data"
    }
   ],
   "source": [
    "plt.hist(g1_betweenness_centrality.values(), bins = 20)\n",
    "plt.title(\"Betweenness Centrality\")\n",
    "plt.show()"
   ]
  },
  {
   "cell_type": "code",
   "execution_count": 23,
   "metadata": {},
   "outputs": [
    {
     "name": "stdout",
     "output_type": "stream",
     "text": [
      "The average betweenness centrality is 0.000667\n"
     ]
    }
   ],
   "source": [
    "print \"The average betweenness centrality is %f\" %mean(g1_betweenness_centrality.values())"
   ]
  },
  {
   "cell_type": "markdown",
   "metadata": {},
   "source": [
    "### the eigenvector centrality "
   ]
  },
  {
   "cell_type": "code",
   "execution_count": 24,
   "metadata": {
    "collapsed": true
   },
   "outputs": [],
   "source": [
    "g1_ev_centrality = nx.eigenvector_centrality(g1)\n"
   ]
  },
  {
   "cell_type": "code",
   "execution_count": 25,
   "metadata": {},
   "outputs": [
    {
     "data": {
      "image/png": "[encoded data removed]",
      "text/plain": [
       "<matplotlib.figure.Figure at 0x10cdd2350>"
      ]
     },
     "metadata": {},
     "output_type": "display_data"
    }
   ],
   "source": [
    "plt.hist(g1_ev_centrality.values(), bins = 20)\n",
    "plt.title(\"EigenVector Centrality\")\n",
    "plt.show()"
   ]
  },
  {
   "cell_type": "code",
   "execution_count": 26,
   "metadata": {},
   "outputs": [
    {
     "name": "stdout",
     "output_type": "stream",
     "text": [
      "The average eigenvector centrality is 0.003864\n"
     ]
    }
   ],
   "source": [
    "print \"The average eigenvector centrality is %f\" %mean(g1_ev_centrality.values())"
   ]
  },
  {
   "cell_type": "markdown",
   "metadata": {},
   "source": [
    "###  store the graph in a file that is readable by Gephi "
   ]
  },
  {
   "cell_type": "code",
   "execution_count": 20,
   "metadata": {
    "collapsed": true
   },
   "outputs": [],
   "source": [
    "if isinstance(g1_betweenness_centrality, dict):\n",
    "    nx.set_node_attributes(g1, g1_betweenness_centrality, 'Betweenness')\n",
    "else:\n",
    "    print \"g1_betweenNess_centrality is not a dictionary\"\n",
    "    \n",
    "if isinstance(dict(g1.degree), dict):\n",
    "    nx.set_node_attributes(g1,dict(g1.degree) , 'Degree')\n",
    "else:\n",
    "    print \"g1_betweenNess_centrality is not a dictionary\""
   ]
  },
  {
   "cell_type": "code",
   "execution_count": 42,
   "metadata": {
    "collapsed": true
   },
   "outputs": [],
   "source": [
    "nx.write_gml(g1,\"Faceboook.gml\")"
   ]
  },
  {
   "cell_type": "markdown",
   "metadata": {},
   "source": [
    "### Erdos"
   ]
  },
  {
   "cell_type": "code",
   "execution_count": 27,
   "metadata": {},
   "outputs": [
    {
     "name": "stdout",
     "output_type": "stream",
     "text": [
      "CPU times: user 264 ms, sys: 8.07 ms, total: 272 ms\n",
      "Wall time: 275 ms\n"
     ]
    }
   ],
   "source": [
    "%%time\n",
    "# build Collaboration Network\n",
    "# undirected network\n",
    "g = nx.Graph()\n",
    "\n",
    "# add Paul Erdos into our network at first\n",
    "dict_authors = {}\n",
    "dict_authors['Paul Erdos'] = 0\n",
    "g.add_node(0)\n",
    "g.node[0]['author'] = 'Paul Erdos'\n",
    "\n",
    "# add the authors with Erdos number 1 and 2 from file\n",
    "line_count = 1\n",
    "skip_line = 24\n",
    "skip_space = 1\n",
    "\n",
    "is_new = False\n",
    "author = \"\"\n",
    "coauthor = \"\"\n",
    "index = 1\n",
    "ind_author = 1\n",
    "ind_coauthor = 1\n",
    "\n",
    "def parseLine(l, start):\n",
    "    end = start\n",
    "    while end < len(l) - 1 and not (l[end] == ' ' and l[end + 1] == ' '):\n",
    "        end += 1\n",
    "    return l[start:end]\n",
    "\n",
    "def addAuthor(auth, ind):\n",
    "    if auth in dict_authors:\n",
    "        return ind\n",
    "    dict_authors[auth] = ind\n",
    "    return ind + 1\n",
    "\n",
    "for l in open(\"data/erdos/Erdos1.html\"):    \n",
    "    if line_count >= skip_line:\n",
    "        if l == '\\n':\n",
    "            is_new = True\n",
    "        elif is_new:\n",
    "            author = parseLine(l, 0)\n",
    "            index = addAuthor(author, index)\n",
    "            ind_author = dict_authors[author]\n",
    "            g.add_edge(0, ind_author)\n",
    "            g.node[ind_author]['author'] = author\n",
    "            is_new = False\n",
    "        elif l == '</pre>':\n",
    "            break\n",
    "        else:\n",
    "            coauthor = parseLine(l, skip_space)\n",
    "            index = addAuthor(coauthor, index)\n",
    "            ind_coauthor = dict_authors[coauthor]\n",
    "            g.add_edge(ind_author, ind_coauthor)\n",
    "            g.node[ind_coauthor]['author'] = coauthor\n",
    "    line_count += 1"
   ]
  },
  {
   "cell_type": "code",
   "execution_count": 28,
   "metadata": {},
   "outputs": [
    {
     "name": "stdout",
     "output_type": "stream",
     "text": [
      "Name: \n",
      "Type: Graph\n",
      "Number of nodes: 11524\n",
      "Number of edges: 18504\n",
      "Average degree:   3.2114\n"
     ]
    }
   ],
   "source": [
    "print nx.info(g)"
   ]
  },
  {
   "cell_type": "code",
   "execution_count": 7,
   "metadata": {
    "collapsed": true
   },
   "outputs": [],
   "source": [
    "from multiprocessing import Pool\n",
    "import itertools\n",
    "\n",
    "def chunks(l, n):\n",
    "    \"\"\"Divide a list of nodes `l` in `n` chunks\"\"\"\n",
    "    l_c = iter(l)\n",
    "    while 1:\n",
    "        x = tuple(itertools.islice(l_c, n))\n",
    "        if not x:\n",
    "            return\n",
    "        yield x\n",
    "        \n",
    "def _betmap(G_normalized_weight_sources_tuple):\n",
    "    \"\"\"Pool for multiprocess only accepts functions with one argument.\n",
    "    This function uses a tuple as its only argument. We use a named tuple for\n",
    "    python 3 compatibility, and then unpack it when we send it to\n",
    "    `betweenness_centrality_source`\n",
    "    \"\"\"\n",
    "    return nx.betweenness_centrality_subset(*G_normalized_weight_sources_tuple)\n",
    "\n",
    "def betweenness_centrality_parallel(G, processes=4):\n",
    "    \"\"\"Parallel betweenness centrality function\"\"\"\n",
    "    p = Pool(processes=processes)\n",
    "    node_divisor = len(p._pool)*4\n",
    "    node_chunks = list(chunks(G.nodes(), int(G.order()/node_divisor)))\n",
    "    # print node_chunks\n",
    "    num_chunks = len(node_chunks)\n",
    "    \n",
    "    bt_sc = p.map(_betmap,\n",
    "                 zip([G]*num_chunks,\n",
    "                    node_chunks,\n",
    "                    [list(G)]*num_chunks,\n",
    "                    [True]*num_chunks,\n",
    "                    [None]*num_chunks))\n",
    "    \n",
    "    # print bt_sc\n",
    "    # Reduce the partial solutions\n",
    "    bt_c = bt_sc[0]\n",
    "    for bt in bt_sc[1:]:\n",
    "        for n in bt:\n",
    "            bt_c[n] += bt[n]\n",
    "    return bt_c"
   ]
  },
  {
   "cell_type": "code",
   "execution_count": 29,
   "metadata": {},
   "outputs": [
    {
     "data": {
      "image/png": "[encoded data removed]",
      "text/plain": [
       "<matplotlib.figure.Figure at 0x10cbf2c10>"
      ]
     },
     "metadata": {},
     "output_type": "display_data"
    }
   ],
   "source": [
    "degrees_erdos  = (g.degree()).values()\n",
    "plt.hist(degrees_erdos,bins = 100)\n",
    "plt.show()"
   ]
  },
  {
   "cell_type": "code",
   "execution_count": 30,
   "metadata": {},
   "outputs": [
    {
     "name": "stdout",
     "output_type": "stream",
     "text": [
      "The mean degree is 3.211385\n"
     ]
    }
   ],
   "source": [
    "print \"The mean degree is %f\" %mean(degrees_erdos)"
   ]
  },
  {
   "cell_type": "code",
   "execution_count": 29,
   "metadata": {},
   "outputs": [
    {
     "name": "stdout",
     "output_type": "stream",
     "text": [
      "The graph is connected\n"
     ]
    }
   ],
   "source": [
    "if nx.is_connected(g):\n",
    "    print 'The graph is connected'\n",
    "else:\n",
    "    print 'The graph is not connected. The largest component is stored in g_largest'\n",
    "    g_largest = max(nx.connected_component_subgraphs(g), key = len)\n",
    "    "
   ]
  },
  {
   "cell_type": "code",
   "execution_count": 31,
   "metadata": {},
   "outputs": [
    {
     "name": "stdout",
     "output_type": "stream",
     "text": [
      "The diameter of the Erdos data is 4\n"
     ]
    }
   ],
   "source": [
    "erdos_dia = nx.diameter(g)\n",
    "\n",
    "\n",
    "print 'The diameter of the Erdos data is %d' %erdos_dia"
   ]
  },
  {
   "cell_type": "code",
   "execution_count": null,
   "metadata": {
    "collapsed": true
   },
   "outputs": [],
   "source": [
    "erdos_avg_sp = nx.average_shortest_path_length(g)"
   ]
  },
  {
   "cell_type": "code",
   "execution_count": 46,
   "metadata": {},
   "outputs": [
    {
     "name": "stdout",
     "output_type": "stream",
     "text": [
      "The average shortest path length is 3.821987\n"
     ]
    }
   ],
   "source": [
    "print 'The average shortest path length is %f' %erdos_avg_sp"
   ]
  },
  {
   "cell_type": "markdown",
   "metadata": {},
   "source": [
    "### the clustering coeffient of the nodes of the graph "
   ]
  },
  {
   "cell_type": "code",
   "execution_count": 32,
   "metadata": {},
   "outputs": [
    {
     "data": {
      "image/png": "[encoded data removed]",
      "text/plain": [
       "<matplotlib.figure.Figure at 0x10cbf2d10>"
      ]
     },
     "metadata": {},
     "output_type": "display_data"
    }
   ],
   "source": [
    "erdos_cluster_coeff = nx.clustering(g)\n",
    "plt.hist(erdos_cluster_coeff.values(), bins = 20)\n",
    "plt.title(\"Clustering Coefficient for Erdos Data\")\n",
    "plt.show()"
   ]
  },
  {
   "cell_type": "code",
   "execution_count": 33,
   "metadata": {},
   "outputs": [
    {
     "name": "stdout",
     "output_type": "stream",
     "text": [
      "The average clustering coefficient is 0.105870\n"
     ]
    }
   ],
   "source": [
    "print \"The average clustering coefficient is %f\" %mean(erdos_cluster_coeff.values())"
   ]
  },
  {
   "cell_type": "markdown",
   "metadata": {},
   "source": [
    "### calculate the degree centrality "
   ]
  },
  {
   "cell_type": "code",
   "execution_count": 37,
   "metadata": {},
   "outputs": [
    {
     "data": {
      "image/png": "[encoded data removed]",
      "text/plain": [
       "<matplotlib.figure.Figure at 0x1512d2b090>"
      ]
     },
     "metadata": {},
     "output_type": "display_data"
    }
   ],
   "source": [
    "erdos_degree_centrality = nx.degree_centrality(g)\n",
    "plt.hist(erdos_degree_centrality.values(), bins = 20)\n",
    "plt.title(\"Degree Centrality for Erdos\")\n",
    "plt.show()"
   ]
  },
  {
   "cell_type": "code",
   "execution_count": 65,
   "metadata": {},
   "outputs": [
    {
     "name": "stdout",
     "output_type": "stream",
     "text": [
      "The average degree centrality is 0.000279\n"
     ]
    }
   ],
   "source": [
    "print \"The average degree centrality is %f\" %mean(erdos_degree_centrality.values())"
   ]
  },
  {
   "cell_type": "code",
   "execution_count": 38,
   "metadata": {
    "collapsed": true
   },
   "outputs": [],
   "source": [
    "import pickle\n",
    "with open('erdos_stuff.pkl', 'rb') as f:\n",
    "    degrees_erdos = pickle.load( f)\n",
    "    erdos_dia = pickle.load( f)\n",
    "    erdos_avg_sp = pickle.load( f)\n",
    "    erdos_cluster_coeff = pickle.load( f)\n",
    "    erdos_degree_centrality = pickle.load( f)\n",
    "    erdos_betweenness_centrality = pickle.load( f)\n",
    "    erdos_ev_centrality = pickle.load( f)"
   ]
  },
  {
   "cell_type": "markdown",
   "metadata": {},
   "source": [
    "### the betweenness centrality"
   ]
  },
  {
   "cell_type": "code",
   "execution_count": null,
   "metadata": {
    "collapsed": true
   },
   "outputs": [],
   "source": [
    "%%time\n",
    "erdos_betweenness_centrality = betweenness_centrality_parallel(g)"
   ]
  },
  {
   "cell_type": "code",
   "execution_count": 40,
   "metadata": {},
   "outputs": [
    {
     "data": {
      "image/png": "[encoded data removed]",
      "text/plain": [
       "<matplotlib.figure.Figure at 0x1514b06e50>"
      ]
     },
     "metadata": {},
     "output_type": "display_data"
    }
   ],
   "source": [
    "plt.hist(erdos_betweenness_centrality.values(), bins = 20)\n",
    "plt.title(\"Betweenness Centrality for Erdos\")\n",
    "plt.show()"
   ]
  },
  {
   "cell_type": "code",
   "execution_count": 41,
   "metadata": {},
   "outputs": [
    {
     "name": "stdout",
     "output_type": "stream",
     "text": [
      "The average betweenness centrality is 0.000245\n"
     ]
    }
   ],
   "source": [
    "print \"The average betweenness centrality is %f\" %mean(erdos_betweenness_centrality.values())"
   ]
  },
  {
   "cell_type": "markdown",
   "metadata": {},
   "source": [
    "### EV centrality of the nodes "
   ]
  },
  {
   "cell_type": "code",
   "execution_count": null,
   "metadata": {
    "collapsed": true
   },
   "outputs": [],
   "source": [
    "erdos_ev_centrality = nx.eigenvector_centrality(g)"
   ]
  },
  {
   "cell_type": "code",
   "execution_count": 42,
   "metadata": {},
   "outputs": [
    {
     "data": {
      "image/png": "[encoded data removed]",
      "text/plain": [
       "<matplotlib.figure.Figure at 0x1514d8d410>"
      ]
     },
     "metadata": {},
     "output_type": "display_data"
    }
   ],
   "source": [
    "plt.hist(erdos_ev_centrality.values(), bins = 200)\n",
    "plt.title(\"EigenVector Centrality for Erdos\")\n",
    "plt.show()"
   ]
  },
  {
   "cell_type": "code",
   "execution_count": 43,
   "metadata": {},
   "outputs": [
    {
     "name": "stdout",
     "output_type": "stream",
     "text": [
      "The average EV centrality is 0.003226\n"
     ]
    }
   ],
   "source": [
    "print \"The average EV centrality is %f\" %mean(erdos_ev_centrality.values())"
   ]
  },
  {
   "cell_type": "markdown",
   "metadata": {},
   "source": [
    "### store the graph in a file that is readable by Gephi "
   ]
  },
  {
   "cell_type": "code",
   "execution_count": 53,
   "metadata": {
    "collapsed": true
   },
   "outputs": [],
   "source": [
    "if isinstance(erdos_betweenness_centrality, dict):\n",
    "    nx.set_node_attributes(g,  'Betweenness', erdos_betweenness_centrality)\n",
    "else:\n",
    "    print \"erdos_betweenNess_centrality is not a dictionary\"\n",
    "    \n",
    "if isinstance(g.degree(), dict):\n",
    "    nx.set_node_attributes(g, 'Degree', g.degree() )\n",
    "else:\n",
    "    print \"g.degree() is not a dictionary\"\n",
    "\n",
    "nx.write_gml(g,\"Erdos.gml\")\n",
    "\n",
    "import pickle\n",
    "\n",
    "with open('erdos_stuff.pkl', 'wb') as f:\n",
    "    pickle.dump(degrees_erdos, f)\n",
    "    pickle.dump(erdos_dia, f)\n",
    "    pickle.dump(erdos_avg_sp, f)\n",
    "    pickle.dump(erdos_cluster_coeff, f)\n",
    "    pickle.dump(erdos_degree_centrality, f)\n",
    "    pickle.dump(erdos_betweenness_centrality, f)\n",
    "    pickle.dump(erdos_ev_centrality, f)\n",
    "    "
   ]
  },
  {
   "cell_type": "markdown",
   "metadata": {},
   "source": [
    "# Enron Network (g2) "
   ]
  },
  {
   "cell_type": "code",
   "execution_count": null,
   "metadata": {
    "collapsed": true
   },
   "outputs": [],
   "source": [
    "%%time\n",
    "# The following code simply converts the data file from ZIP to TXT so that NetworkX can read it\n",
    "\n",
    "import gzip\n",
    "inF = gzip.GzipFile(\"data/enron/email-Enron.txt.gz\", 'rb')\n",
    "s = inF.read()\n",
    "inF.close()\n",
    "\n",
    "outF = file(\"data/enron/email-Enron.txt\", 'wb')\n",
    "outF.write(s)\n",
    "outF.close()\n",
    "\n"
   ]
  },
  {
   "cell_type": "code",
   "execution_count": 83,
   "metadata": {},
   "outputs": [
    {
     "name": "stdout",
     "output_type": "stream",
     "text": [
      "No. of nodes are= 36692\n",
      "No. of edges are= 183831\n"
     ]
    }
   ],
   "source": [
    "\n",
    "#load the network after converting into text file\n",
    "\n",
    "file_name=\"data/enron/email-Enron.txt\"\n",
    "\n",
    "#convert the information in the text file into a graph, find no. of edges & nodes in the graph\n",
    "\n",
    "g2=nx.read_edgelist(file_name,create_using=nx.Graph(),nodetype=int)\n",
    "node, edge=g2.order(),g2.size()\n",
    "print \"No. of nodes are=\",node\n",
    "print \"No. of edges are=\",edge"
   ]
  },
  {
   "cell_type": "code",
   "execution_count": 48,
   "metadata": {
    "collapsed": true
   },
   "outputs": [],
   "source": [
    "with open('enron_stuff.pkl', 'rb') as f:\n",
    "    enron_degrees = pickle.load( f)\n",
    "    enron_cluster_coeff = pickle.load( f)\n",
    "    enron_degree_centrality = pickle.load( f)\n",
    "    enron_betweenness_centrality = pickle.load(f)\n",
    "    enron_ev_centrality = pickle.load(f)\n",
    "    "
   ]
  },
  {
   "cell_type": "code",
   "execution_count": 84,
   "metadata": {},
   "outputs": [
    {
     "data": {
      "image/png": "[encoded data removed]",
      "text/plain": [
       "<matplotlib.figure.Figure at 0x1512fd9310>"
      ]
     },
     "metadata": {},
     "output_type": "display_data"
    }
   ],
   "source": [
    "enron_degrees  = (g2.degree()).values()\n",
    "plt.hist(enron_degrees,bins = 100)\n",
    "plt.show()"
   ]
  },
  {
   "cell_type": "code",
   "execution_count": 49,
   "metadata": {},
   "outputs": [
    {
     "name": "stdout",
     "output_type": "stream",
     "text": [
      "The average degree is 10.020222\n"
     ]
    }
   ],
   "source": [
    "print \"The average degree is %f\" %mean(enron_degrees)"
   ]
  },
  {
   "cell_type": "code",
   "execution_count": 85,
   "metadata": {},
   "outputs": [
    {
     "name": "stdout",
     "output_type": "stream",
     "text": [
      "The graph is not connected. The largest component is stored in g2_largest\n"
     ]
    }
   ],
   "source": [
    "if nx.is_connected(g2):\n",
    "    print 'The graph is connected'\n",
    "else:\n",
    "    print 'The graph is not connected. The largest component is stored in g2_largest'\n",
    "    g2_largest = max(nx.connected_component_subgraphs(g2), key = len)\n",
    " "
   ]
  },
  {
   "cell_type": "code",
   "execution_count": 91,
   "metadata": {},
   "outputs": [
    {
     "name": "stdout",
     "output_type": "stream",
     "text": [
      "The graph is not connected. The largest component is stored in g2_largest\n"
     ]
    }
   ],
   "source": [
    "if nx.is_connected(g2):\n",
    "    enron_dia = nx.diameter(g2)\n",
    "    print 'The diameter of the Enron data is %d' %enron_dia\n",
    "    enron_avg_sp = nx.average_shortest_path_length(g2)\n",
    "    print 'The average shortest path length is %d' %enron_avg_sp\n",
    "else:\n",
    "    print 'The graph is not connected. The largest component is stored in g2_largest'\n",
    "\n"
   ]
  },
  {
   "cell_type": "markdown",
   "metadata": {},
   "source": [
    "The diameter is infiinity. "
   ]
  },
  {
   "cell_type": "code",
   "execution_count": 92,
   "metadata": {},
   "outputs": [
    {
     "data": {
      "image/png": "[encoded data removed]",
      "text/plain": [
       "<matplotlib.figure.Figure at 0x15131fb7d0>"
      ]
     },
     "metadata": {},
     "output_type": "display_data"
    }
   ],
   "source": [
    "enron_cluster_coeff = nx.clustering(g2)\n",
    "plt.hist(enron_cluster_coeff.values(), bins = 20)\n",
    "plt.title(\"Clustering Coefficient for Enron Data\")\n",
    "plt.show()"
   ]
  },
  {
   "cell_type": "code",
   "execution_count": 50,
   "metadata": {},
   "outputs": [
    {
     "name": "stdout",
     "output_type": "stream",
     "text": [
      "The average clustering coefficient is 0.496983\n"
     ]
    }
   ],
   "source": [
    "print \"The average clustering coefficient is %f\" %mean(enron_cluster_coeff.values())"
   ]
  },
  {
   "cell_type": "code",
   "execution_count": 93,
   "metadata": {},
   "outputs": [
    {
     "data": {
      "image/png": "[encoded data removed]",
      "text/plain": [
       "<matplotlib.figure.Figure at 0x15131fb4d0>"
      ]
     },
     "metadata": {},
     "output_type": "display_data"
    }
   ],
   "source": [
    "enron_degree_centrality = nx.degree_centrality(g2)\n",
    "plt.hist(enron_degree_centrality.values(), bins = 20)\n",
    "plt.title(\"Degree Centrality for Erdos\")\n",
    "plt.show()"
   ]
  },
  {
   "cell_type": "code",
   "execution_count": 66,
   "metadata": {},
   "outputs": [
    {
     "name": "stdout",
     "output_type": "stream",
     "text": [
      "Average degree centrality is 0.000273\n"
     ]
    }
   ],
   "source": [
    "print \"Average degree centrality is %f\" %mean(enron_degree_centrality.values())"
   ]
  },
  {
   "cell_type": "code",
   "execution_count": null,
   "metadata": {
    "collapsed": true
   },
   "outputs": [],
   "source": [
    "%%time\n",
    "enron_betweenness_centrality = betweenness_centrality_parallel(g2)"
   ]
  },
  {
   "cell_type": "code",
   "execution_count": 96,
   "metadata": {},
   "outputs": [
    {
     "data": {
      "image/png": "[encoded data removed]",
      "text/plain": [
       "<matplotlib.figure.Figure at 0x1513176cd0>"
      ]
     },
     "metadata": {},
     "output_type": "display_data"
    }
   ],
   "source": [
    "plt.hist(enron_betweenness_centrality.values(), bins = 20)\n",
    "plt.title(\"Betweenness Centrality for Enron\")\n",
    "plt.show()"
   ]
  },
  {
   "cell_type": "code",
   "execution_count": 51,
   "metadata": {},
   "outputs": [
    {
     "name": "stdout",
     "output_type": "stream",
     "text": [
      "The average betweenness centrality is 0.000070\n"
     ]
    }
   ],
   "source": [
    "print \"The average betweenness centrality is %f\" %mean(enron_betweenness_centrality.values())"
   ]
  },
  {
   "cell_type": "code",
   "execution_count": 97,
   "metadata": {},
   "outputs": [
    {
     "data": {
      "image/png": "[encoded data removed]",
      "text/plain": [
       "<matplotlib.figure.Figure at 0x15131ca3d0>"
      ]
     },
     "metadata": {},
     "output_type": "display_data"
    }
   ],
   "source": [
    "enron_ev_centrality = nx.eigenvector_centrality(g2)\n",
    "\n",
    "\n",
    "plt.hist(enron_ev_centrality.values(), bins = 200)\n",
    "plt.title(\"EigenVector Centrality for Enron\")\n",
    "plt.show()"
   ]
  },
  {
   "cell_type": "code",
   "execution_count": 52,
   "metadata": {},
   "outputs": [
    {
     "name": "stdout",
     "output_type": "stream",
     "text": [
      "The average EV centrality is 0.001447\n"
     ]
    }
   ],
   "source": [
    "print \"The average EV centrality is %f\" % mean(enron_ev_centrality.values())"
   ]
  },
  {
   "cell_type": "code",
   "execution_count": 99,
   "metadata": {
    "collapsed": true
   },
   "outputs": [],
   "source": [
    "if isinstance(enron_betweenness_centrality, dict):\n",
    "    nx.set_node_attributes(g2,  'Betweenness', enron_betweenness_centrality)\n",
    "else:\n",
    "    print \"enron_betweenNess_centrality is not a dictionary\"\n",
    "    \n",
    "if isinstance(g2.degree(), dict):\n",
    "    nx.set_node_attributes(g2, 'Degree', g2.degree() )\n",
    "else:\n",
    "    print \"g2.degree() is not a dictionary\"\n",
    "\n",
    "nx.write_gml(g2,\"Enron.gml\")"
   ]
  },
  {
   "cell_type": "code",
   "execution_count": 103,
   "metadata": {
    "collapsed": true
   },
   "outputs": [],
   "source": [
    "import pickle\n",
    "\n",
    "with open('enron_stuff.pkl', 'wb') as f:\n",
    "    pickle.dump(enron_degrees, f)\n",
    "    pickle.dump(enron_cluster_coeff, f)\n",
    "    pickle.dump(enron_degree_centrality, f)\n",
    "    pickle.dump(enron_betweenness_centrality, f)\n",
    "    pickle.dump(enron_ev_centrality, f)\n",
    "    "
   ]
  },
  {
   "cell_type": "markdown",
   "metadata": {},
   "source": [
    "# Citation Network  "
   ]
  },
  {
   "cell_type": "code",
   "execution_count": 53,
   "metadata": {
    "collapsed": true
   },
   "outputs": [],
   "source": [
    "with open('cit_stuff.pkl', 'rb') as f:\n",
    "    cit_degrees = pickle.load(f)\n",
    "    cit_cluster_coeff = pickle.load(f)\n",
    "    cit_degree_centrality = pickle.load(f)\n",
    "    cit_betweenness_centrality = pickle.load(f)\n",
    "    cit_ev_centrality = pickle.load(f)\n",
    "\n",
    "    "
   ]
  },
  {
   "cell_type": "code",
   "execution_count": 104,
   "metadata": {},
   "outputs": [
    {
     "name": "stdout",
     "output_type": "stream",
     "text": [
      "CPU times: user 33.8 ms, sys: 32.1 ms, total: 65.8 ms\n",
      "Wall time: 69.8 ms\n"
     ]
    }
   ],
   "source": [
    "%%time\n",
    "# The following code simply converts the data file from ZIP to TXT so that NetworkX can read it\n",
    "\n",
    "import gzip\n",
    "inF = gzip.GzipFile(\"data/citNet/cit-HepTh.txt.gz\", 'rb')\n",
    "s = inF.read()\n",
    "inF.close()\n",
    "\n",
    "outF = file(\"data/citNet/cit-HepTh.txt\", 'wb')\n",
    "outF.write(s)\n",
    "outF.close()\n",
    "\n"
   ]
  },
  {
   "cell_type": "code",
   "execution_count": 54,
   "metadata": {},
   "outputs": [
    {
     "name": "stdout",
     "output_type": "stream",
     "text": [
      "No. of nodes are= 27770\n",
      "No. of edges are= 352807\n"
     ]
    }
   ],
   "source": [
    "\n",
    "#load the network after converting into text file\n",
    "\n",
    "file_name=\"data/citNet/cit-HepTh.txt\"\n",
    "\n",
    "#convert the information in the text file into a graph, find no. of edges & nodes in the graph\n",
    "\n",
    "g3=nx.read_edgelist(file_name,create_using=nx.DiGraph(),nodetype=int)\n",
    "node, edge=g3.order(),g3.size()\n",
    "print \"No. of nodes are=\",node\n",
    "print \"No. of edges are=\",edge"
   ]
  },
  {
   "cell_type": "code",
   "execution_count": 55,
   "metadata": {},
   "outputs": [
    {
     "data": {
      "image/png": "[encoded data removed]",
      "text/plain": [
       "<matplotlib.figure.Figure at 0x151534b590>"
      ]
     },
     "metadata": {},
     "output_type": "display_data"
    }
   ],
   "source": [
    "cit_degrees  = (g3.in_degree()).values()\n",
    "plt.hist(cit_degrees,bins = 100)\n",
    "plt.show()"
   ]
  },
  {
   "cell_type": "code",
   "execution_count": 56,
   "metadata": {},
   "outputs": [
    {
     "name": "stdout",
     "output_type": "stream",
     "text": [
      "The average in degree is 12.704609\n"
     ]
    }
   ],
   "source": [
    "print \"The average in degree is %f\" %mean(cit_degrees)"
   ]
  },
  {
   "cell_type": "code",
   "execution_count": 57,
   "metadata": {},
   "outputs": [
    {
     "data": {
      "image/png": "[encoded data removed]",
      "text/plain": [
       "<matplotlib.figure.Figure at 0x151511c050>"
      ]
     },
     "metadata": {},
     "output_type": "display_data"
    }
   ],
   "source": [
    "cit_degrees  = (g3.out_degree()).values()\n",
    "plt.hist(cit_degrees,bins = 100)\n",
    "plt.show()"
   ]
  },
  {
   "cell_type": "code",
   "execution_count": 58,
   "metadata": {},
   "outputs": [
    {
     "name": "stdout",
     "output_type": "stream",
     "text": [
      "The average out degree is 12.704609\n"
     ]
    }
   ],
   "source": [
    "print \"The average out degree is %f\" %mean(cit_degrees)"
   ]
  },
  {
   "cell_type": "code",
   "execution_count": 118,
   "metadata": {
    "collapsed": true
   },
   "outputs": [],
   "source": [
    "g3_undirected = nx.Graph(g3)"
   ]
  },
  {
   "cell_type": "code",
   "execution_count": 119,
   "metadata": {},
   "outputs": [
    {
     "name": "stdout",
     "output_type": "stream",
     "text": [
      "The graph is not connected. The largest component of the undirected graph is stored in g3_largest\n"
     ]
    }
   ],
   "source": [
    "if nx.is_connected(g3_undirected):\n",
    "    print 'The graph is connected'\n",
    "else:\n",
    "    print 'The graph is not connected. The largest component of the undirected graph is stored in g3_largest'\n",
    "    g3_largest = max(nx.connected_component_subgraphs(g3_undirected), key = len)\n",
    " "
   ]
  },
  {
   "cell_type": "code",
   "execution_count": 120,
   "metadata": {},
   "outputs": [
    {
     "name": "stdout",
     "output_type": "stream",
     "text": [
      "The graph is not connected. The largest component is stored in g3_largest\n"
     ]
    }
   ],
   "source": [
    "if nx.is_connected(g3_undirected):\n",
    "    cit_dia = nx.diameter(g3)\n",
    "    print 'The diameter of the Enron data is %d' %cit_dia\n",
    "    cit_avg_sp = nx.average_shortest_path_length(g3)\n",
    "    print 'The average shortest path length is %d' %cit_avg_sp\n",
    "else:\n",
    "    print 'The graph is not connected. The largest component is stored in g3_largest'\n",
    "\n"
   ]
  },
  {
   "cell_type": "code",
   "execution_count": 122,
   "metadata": {},
   "outputs": [
    {
     "data": {
      "image/png": "[encoded data removed]",
      "text/plain": [
       "<matplotlib.figure.Figure at 0x1514c3f2d0>"
      ]
     },
     "metadata": {},
     "output_type": "display_data"
    }
   ],
   "source": [
    "cit_cluster_coeff = nx.clustering(g3_undirected)\n",
    "plt.hist(cit_cluster_coeff.values(), bins = 20)\n",
    "plt.title(\"Clustering Coefficient for Citations Data\")\n",
    "plt.show()"
   ]
  },
  {
   "cell_type": "code",
   "execution_count": 59,
   "metadata": {},
   "outputs": [
    {
     "name": "stdout",
     "output_type": "stream",
     "text": [
      "The average clustering coefficient is 0.312019\n"
     ]
    }
   ],
   "source": [
    "print \"The average clustering coefficient is %f\" %mean(cit_cluster_coeff.values())"
   ]
  },
  {
   "cell_type": "code",
   "execution_count": null,
   "metadata": {
    "collapsed": true
   },
   "outputs": [],
   "source": [
    "cit_degree_centrality = nx.in_degree_centrality(g3)"
   ]
  },
  {
   "cell_type": "code",
   "execution_count": 60,
   "metadata": {},
   "outputs": [
    {
     "data": {
      "image/png": "[encoded data removed]",
      "text/plain": [
       "<matplotlib.figure.Figure at 0x15151670d0>"
      ]
     },
     "metadata": {},
     "output_type": "display_data"
    }
   ],
   "source": [
    "plt.hist(cit_degree_centrality.values(), bins = 200)\n",
    "plt.title(\"in Degree Centrality for Citations\")\n",
    "plt.show()"
   ]
  },
  {
   "cell_type": "code",
   "execution_count": 67,
   "metadata": {},
   "outputs": [
    {
     "name": "stdout",
     "output_type": "stream",
     "text": [
      "Average in degree centrality is 0.000458 \n"
     ]
    }
   ],
   "source": [
    "print \"Average in degree centrality is %f \" %mean(cit_degree_centrality.values())"
   ]
  },
  {
   "cell_type": "code",
   "execution_count": 125,
   "metadata": {},
   "outputs": [
    {
     "name": "stdout",
     "output_type": "stream",
     "text": [
      "CPU times: user 49.9 s, sys: 3.82 s, total: 53.7 s\n",
      "Wall time: 1h 31min 13s\n"
     ]
    }
   ],
   "source": [
    "%%time\n",
    "cit_betweenness_centrality = betweenness_centrality_parallel(g3)"
   ]
  },
  {
   "cell_type": "code",
   "execution_count": 127,
   "metadata": {},
   "outputs": [
    {
     "data": {
      "image/png": "[encoded data removed]",
      "text/plain": [
       "<matplotlib.figure.Figure at 0x1512d7cd10>"
      ]
     },
     "metadata": {},
     "output_type": "display_data"
    }
   ],
   "source": [
    "plt.hist(cit_betweenness_centrality.values(), bins = 200)\n",
    "plt.title(\"Betweenness Centrality for Citations DIRECTED graph\")\n",
    "plt.show()"
   ]
  },
  {
   "cell_type": "code",
   "execution_count": 62,
   "metadata": {},
   "outputs": [
    {
     "name": "stdout",
     "output_type": "stream",
     "text": [
      "The average betweenness centrality is 0.000078\n"
     ]
    }
   ],
   "source": [
    "print \"The average betweenness centrality is %f\" %mean(cit_betweenness_centrality.values())"
   ]
  },
  {
   "cell_type": "code",
   "execution_count": 128,
   "metadata": {},
   "outputs": [
    {
     "data": {
      "image/png": "[encoded data removed]",
      "text/plain": [
       "<matplotlib.figure.Figure at 0x1512d55b50>"
      ]
     },
     "metadata": {},
     "output_type": "display_data"
    }
   ],
   "source": [
    "cit_ev_centrality = nx.eigenvector_centrality(g3)\n",
    "\n",
    "\n",
    "plt.hist(cit_ev_centrality.values(), bins = 200)\n",
    "plt.title(\"EigenVector Centrality for Citations Directed graph\")\n",
    "plt.show()"
   ]
  },
  {
   "cell_type": "code",
   "execution_count": 63,
   "metadata": {},
   "outputs": [
    {
     "name": "stdout",
     "output_type": "stream",
     "text": [
      "The average EV centrality is 0.000509\n"
     ]
    }
   ],
   "source": [
    "print \"The average EV centrality is %f\" %mean(cit_ev_centrality.values())"
   ]
  },
  {
   "cell_type": "code",
   "execution_count": 11,
   "metadata": {
    "collapsed": true
   },
   "outputs": [],
   "source": [
    "if isinstance(cit_betweenness_centrality, dict):\n",
    "    nx.set_node_attributes(g3,  'Betweenness', cit_betweenness_centrality)\n",
    "else:\n",
    "    print \"cit_betweenNess_centrality is not a dictionary\"\n",
    "    \n",
    "if isinstance(g3.in_degree(), dict):\n",
    "    nx.set_node_attributes(g3, 'Degree', g3.in_degree() )\n",
    "else:\n",
    "    print \"g3.degree() is not a dictionary\"\n",
    "    \n",
    "    \n",
    "\n"
   ]
  },
  {
   "cell_type": "code",
   "execution_count": 133,
   "metadata": {
    "collapsed": true
   },
   "outputs": [],
   "source": [
    "import pickle\n",
    "\n",
    "with open('cit_stuff.pkl', 'wb') as f:\n",
    "    pickle.dump(cit_degrees, f)\n",
    "    pickle.dump(cit_cluster_coeff, f)\n",
    "    pickle.dump(cit_degree_centrality, f)\n",
    "    pickle.dump(cit_betweenness_centrality, f)\n",
    "    pickle.dump(cit_ev_centrality, f)\n",
    "    "
   ]
  },
  {
   "cell_type": "code",
   "execution_count": 9,
   "metadata": {
    "collapsed": true
   },
   "outputs": [],
   "source": [
    "import pickle\n",
    "with open('cit_stuff.pkl', 'rb') as f:\n",
    "    cit_degrees = pickle.load(f)\n",
    "    cit_cluster_coeff = pickle.load(f)\n",
    "    cit_degree_centrality = pickle.load(f)\n",
    "    cit_betweenness_centrality = pickle.load(f)\n",
    "    cit_ev_centrality = pickle.load(f)\n",
    "\n",
    "    "
   ]
  },
  {
   "cell_type": "markdown",
   "metadata": {},
   "source": [
    "### Extract Author names from text files "
   ]
  },
  {
   "cell_type": "code",
   "execution_count": 38,
   "metadata": {
    "collapsed": true
   },
   "outputs": [],
   "source": [
    "import os\n",
    "parent_dir = (str('data/citNet/cit-HepTh-abstracts/'))\n",
    "id_authors = dict()\n",
    "for year  in os.listdir(parent_dir):\n",
    "    year_dir = str('%s/%s' %(parent_dir, year))\n",
    "    if os.path.isdir(year_dir):\n",
    "        for filename in os.listdir(year_dir):\n",
    "            file_path =  str('%s/%s' %(year_dir, filename))\n",
    "            if os.path.isfile(file_path):\n",
    "                with open(file_path, 'r') as fp:\n",
    "                    for i, line in enumerate(fp):\n",
    "                        if line[:6] == \"Author\":\n",
    "                            paper_id = int(filename[:-4])\n",
    "                            if paper_id in g3.nodes():\n",
    "                                id_authors[paper_id] = line[8:].strip()\n",
    "                            \n",
    "\n",
    "\n"
   ]
  },
  {
   "cell_type": "code",
   "execution_count": 40,
   "metadata": {
    "collapsed": true
   },
   "outputs": [],
   "source": [
    "if isinstance(id_authors, dict):\n",
    "    nx.set_node_attributes(g3, 'author', id_authors )\n",
    "else:\n",
    "    print \"id_authors is not a dictionary\"\n",
    "    \n",
    "    "
   ]
  },
  {
   "cell_type": "code",
   "execution_count": 41,
   "metadata": {
    "collapsed": true
   },
   "outputs": [],
   "source": [
    "nx.write_gml(g3,\"cit_with_authors.gml\")"
   ]
  }
 ],
 "metadata": {
  "kernelspec": {
   "display_name": "Python 2",
   "language": "python",
   "name": "python2"
  },
  "language_info": {
   "codemirror_mode": {
    "name": "ipython",
    "version": 2
   },
   "file_extension": ".py",
   "mimetype": "text/x-python",
   "name": "python",
   "nbconvert_exporter": "python",
   "pygments_lexer": "ipython2",
   "version": "2.7.14"
  }
 },
 "nbformat": 4,
 "nbformat_minor": 2
}
